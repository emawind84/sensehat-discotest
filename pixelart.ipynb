{
 "cells": [
  {
   "cell_type": "code",
   "execution_count": 2,
   "metadata": {
    "collapsed": false
   },
   "outputs": [],
   "source": [
    "from sense_hat import SenseHat\n",
    "import time\n",
    "from PIL import Image\n",
    "import os"
   ]
  },
  {
   "cell_type": "code",
   "execution_count": 3,
   "metadata": {
    "collapsed": false
   },
   "outputs": [],
   "source": [
    "image_file = os.path.join(os.sep, \"/home\", \"pi\", \"python_example/sensehat\", \"tree.gif\")\n",
    "img = Image.open(image_file)"
   ]
  },
  {
   "cell_type": "code",
   "execution_count": 4,
   "metadata": {
    "collapsed": true
   },
   "outputs": [],
   "source": [
    "rgb_img = img.convert('RGB')\n",
    "image_pixels = list(rgb_img.getdata())"
   ]
  },
  {
   "cell_type": "code",
   "execution_count": 5,
   "metadata": {
    "collapsed": false
   },
   "outputs": [],
   "source": [
    "#print(image_pixels)\n",
    "pixel_width = 6\n",
    "image_width = pixel_width * 8\n",
    "sense_pixels = []\n",
    "start_pixel = 0\n",
    "while start_pixel < (image_width * 64):\n",
    "    sense_pixels.extend(image_pixels[start_pixel:(start_pixel+image_width):pixel_width])\n",
    "    start_pixel += (image_width * pixel_width)"
   ]
  },
  {
   "cell_type": "code",
   "execution_count": 8,
   "metadata": {
    "collapsed": false
   },
   "outputs": [
    {
     "name": "stdout",
     "output_type": "stream",
     "text": [
      "[(254, 255, 255), (254, 255, 255), (254, 255, 255), (243, 248, 218), (236, 248, 203), (248, 253, 234), (254, 255, 255), (254, 255, 255), (254, 255, 255), (251, 252, 250), (251, 252, 250), (127, 207, 113), (105, 166, 50), (200, 228, 181), (254, 255, 255), (254, 253, 254), (254, 255, 255), (248, 248, 245), (254, 255, 255), (145, 97, 86), (18, 25, 5), (156, 185, 145), (254, 255, 255), (248, 248, 245), (254, 255, 255), (254, 255, 255), (111, 170, 108), (14, 42, 38), (48, 58, 8), (67, 147, 14), (183, 213, 178), (254, 255, 255), (254, 253, 254), (205, 219, 202), (24, 41, 2), (8, 102, 40), (17, 211, 31), (9, 121, 6), (72, 112, 117), (195, 231, 202), (254, 255, 255), (28, 166, 74), (156, 150, 44), (73, 168, 43), (24, 161, 10), (9, 103, 22), (8, 102, 40), (141, 209, 97), (205, 213, 232), (52, 89, 4), (156, 150, 44), (25, 71, 35), (25, 71, 35), (95, 90, 14), (5, 56, 10), (85, 120, 65), (209, 152, 186), (222, 74, 81), (140, 5, 9), (16, 9, 83), (105, 171, 197), (119, 143, 141), (91, 19, 64), (28, 53, 116)]\n"
     ]
    }
   ],
   "source": [
    "print(sense_pixels)"
   ]
  },
  {
   "cell_type": "code",
   "execution_count": 9,
   "metadata": {
    "collapsed": false
   },
   "outputs": [],
   "source": [
    "sense = SenseHat()\n",
    "sense.low_light = False\n",
    "#sense.set_rotation(r=180)\n",
    "sense.set_pixels(sense_pixels)\n",
    "#time.sleep(3)\n",
    "#sense.clear()"
   ]
  },
  {
   "cell_type": "code",
   "execution_count": 10,
   "metadata": {
    "collapsed": true
   },
   "outputs": [],
   "source": [
    "sense.clear()"
   ]
  },
  {
   "cell_type": "code",
   "execution_count": null,
   "metadata": {
    "collapsed": true
   },
   "outputs": [],
   "source": []
  }
 ],
 "metadata": {
  "kernelspec": {
   "display_name": "Python 2",
   "language": "python",
   "name": "python2"
  },
  "language_info": {
   "codemirror_mode": {
    "name": "ipython",
    "version": 2
   },
   "file_extension": ".py",
   "mimetype": "text/x-python",
   "name": "python",
   "nbconvert_exporter": "python",
   "pygments_lexer": "ipython2",
   "version": "2.7.3"
  }
 },
 "nbformat": 4,
 "nbformat_minor": 0
}
