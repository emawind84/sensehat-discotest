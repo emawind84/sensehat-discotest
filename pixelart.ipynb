{
 "cells": [
  {
   "cell_type": "code",
   "execution_count": 2,
   "metadata": {
    "collapsed": false
   },
   "outputs": [],
   "source": [
    "from sense_hat import SenseHat\n",
    "import time\n",
    "from PIL import Image\n",
    "import os"
   ]
  },
  {
   "cell_type": "code",
   "execution_count": 3,
   "metadata": {
    "collapsed": false
   },
   "outputs": [],
   "source": [
    "image_file = os.path.join(os.sep, \"/home\", \"pi\", \"python_example/sensehat\", \"pixelart_sample2.gif\")\n",
    "img = Image.open(image_file)"
   ]
  },
  {
   "cell_type": "code",
   "execution_count": 4,
   "metadata": {
    "collapsed": true
   },
   "outputs": [],
   "source": [
    "rgb_img = img.convert('RGB')\n",
    "image_pixels = list(rgb_img.getdata())"
   ]
  },
  {
   "cell_type": "code",
   "execution_count": 5,
   "metadata": {
    "collapsed": false
   },
   "outputs": [],
   "source": [
    "#print(image_pixels)\n",
    "pixel_width = 6\n",
    "image_width = pixel_width * 8\n",
    "sense_pixels = []\n",
    "start_pixel = 0\n",
    "while start_pixel < (image_width * 64):\n",
    "    sense_pixels.extend(image_pixels[start_pixel:(start_pixel+image_width):pixel_width])\n",
    "    start_pixel += (image_width * pixel_width)"
   ]
  },
  {
   "cell_type": "code",
   "execution_count": 6,
   "metadata": {
    "collapsed": false
   },
   "outputs": [
    {
     "name": "stdout",
     "output_type": "stream",
     "text": [
      "[(0, 0, 0), (0, 0, 0), (255, 0, 77), (255, 0, 77), (194, 195, 199), (126, 37, 83), (0, 0, 0), (0, 0, 0), (0, 0, 0), (255, 0, 77), (194, 195, 199), (194, 195, 199), (194, 195, 199), (131, 118, 156), (0, 0, 0), (0, 0, 0), (0, 0, 0), (194, 195, 199), (0, 0, 0), (255, 241, 232), (0, 0, 0), (0, 0, 0), (0, 0, 0), (0, 0, 0), (255, 163, 0), (255, 163, 0), (255, 0, 77), (255, 204, 170), (255, 204, 170), (255, 204, 170), (0, 0, 0), (0, 0, 0), (255, 0, 77), (194, 195, 199), (255, 163, 0), (255, 163, 0), (255, 163, 0), (126, 37, 83), (126, 37, 83), (255, 255, 39), (255, 0, 77), (0, 0, 0), (255, 0, 77), (255, 0, 77), (126, 37, 83), (0, 0, 0), (0, 0, 0), (0, 0, 0), (0, 0, 0), (194, 195, 199), (194, 195, 199), (0, 0, 0), (131, 118, 156), (131, 118, 156), (0, 0, 0), (0, 0, 0), (255, 0, 77), (255, 0, 77), (126, 37, 83), (0, 0, 0), (126, 37, 83), (126, 37, 83), (126, 37, 83), (0, 0, 0)]\n"
     ]
    }
   ],
   "source": [
    "print(sense_pixels)"
   ]
  },
  {
   "cell_type": "code",
   "execution_count": 9,
   "metadata": {
    "collapsed": false
   },
   "outputs": [],
   "source": [
    "sense = SenseHat()\n",
    "sense.low_light = False\n",
    "#sense.set_rotation(r=180)\n",
    "sense.set_pixels(sense_pixels)\n",
    "#time.sleep(3)\n",
    "#sense.clear()"
   ]
  },
  {
   "cell_type": "code",
   "execution_count": 10,
   "metadata": {
    "collapsed": true
   },
   "outputs": [],
   "source": [
    "sense.clear()"
   ]
  },
  {
   "cell_type": "code",
   "execution_count": null,
   "metadata": {
    "collapsed": true
   },
   "outputs": [],
   "source": []
  }
 ],
 "metadata": {
  "kernelspec": {
   "display_name": "Python 2",
   "language": "python",
   "name": "python2"
  },
  "language_info": {
   "codemirror_mode": {
    "name": "ipython",
    "version": 2
   },
   "file_extension": ".py",
   "mimetype": "text/x-python",
   "name": "python",
   "nbconvert_exporter": "python",
   "pygments_lexer": "ipython2",
   "version": "2.7.3"
  }
 },
 "nbformat": 4,
 "nbformat_minor": 0
}
