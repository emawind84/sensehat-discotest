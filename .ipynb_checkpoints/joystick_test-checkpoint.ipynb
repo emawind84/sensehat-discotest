{
 "cells": [
  {
   "cell_type": "code",
   "execution_count": 8,
   "metadata": {
    "collapsed": false,
    "scrolled": true
   },
   "outputs": [],
   "source": [
    "from asyncore import file_dispatcher, loop\n",
    "import time, stick;"
   ]
  },
  {
   "cell_type": "code",
   "execution_count": 9,
   "metadata": {
    "collapsed": false
   },
   "outputs": [
    {
     "name": "stdout",
     "output_type": "stream",
     "text": [
      "<stick.SenseStick object at 0x121fb50>\n"
     ]
    }
   ],
   "source": [
    "stick = stick.SenseStick()\n",
    "print stick"
   ]
  },
  {
   "cell_type": "code",
   "execution_count": 10,
   "metadata": {
    "collapsed": false
   },
   "outputs": [
    {
     "data": {
      "text/plain": [
       "<_io.BufferedReader name=u'/dev/input/event0'>"
      ]
     },
     "execution_count": 10,
     "metadata": {},
     "output_type": "execute_result"
    }
   ],
   "source": [
    "stick.stick_file"
   ]
  },
  {
   "cell_type": "code",
   "execution_count": 15,
   "metadata": {
    "collapsed": false
   },
   "outputs": [
    {
     "data": {
      "text/plain": [
       "<__main__.InputDeviceDispatcher connected at 0x1221af8>"
      ]
     },
     "execution_count": 15,
     "metadata": {},
     "output_type": "execute_result"
    }
   ],
   "source": [
    "class InputDeviceDispatcher(file_dispatcher):\n",
    "    def __init__(self, device):\n",
    "        self.device = device\n",
    "        file_dispatcher.__init__(self, device)\n",
    "        \n",
    "    def recv(self, ign=None):\n",
    "        return self.device.read()\n",
    "\n",
    "    def handle_read(self):\n",
    "        for event in self.recv():\n",
    "            print(repr(event))\n",
    "            \n",
    "InputDeviceDispatcher(stick.stick_file)"
   ]
  },
  {
   "cell_type": "code",
   "execution_count": 16,
   "metadata": {
    "collapsed": false
   },
   "outputs": [
    {
     "name": "stdout",
     "output_type": "stream",
     "text": [
      "error: uncaptured python exception, closing channel <__main__.InputDeviceDispatcher connected at 0x1221af8> (<type 'exceptions.IOError'>:[Errno 22] Invalid argument [/usr/lib/python2.7/asyncore.py|read|83] [/usr/lib/python2.7/asyncore.py|handle_read_event|449] [<ipython-input-15-dd8b2070c7d1>|handle_read|17] [<ipython-input-15-dd8b2070c7d1>|recv|8])\n"
     ]
    }
   ],
   "source": [
    "loop()"
   ]
  },
  {
   "cell_type": "code",
   "execution_count": null,
   "metadata": {
    "collapsed": true
   },
   "outputs": [],
   "source": []
  }
 ],
 "metadata": {
  "kernelspec": {
   "display_name": "Python 2",
   "language": "python",
   "name": "python2"
  },
  "language_info": {
   "codemirror_mode": {
    "name": "ipython",
    "version": 2
   },
   "file_extension": ".py",
   "mimetype": "text/x-python",
   "name": "python",
   "nbconvert_exporter": "python",
   "pygments_lexer": "ipython2",
   "version": "2.7.3"
  }
 },
 "nbformat": 4,
 "nbformat_minor": 0
}
