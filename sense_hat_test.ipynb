{
 "cells": [
  {
   "cell_type": "code",
   "execution_count": 1,
   "metadata": {
    "collapsed": false
   },
   "outputs": [],
   "source": [
    "from sense_hat import SenseHat\n",
    "#import sense_hat\n",
    "import stick, time"
   ]
  },
  {
   "cell_type": "code",
   "execution_count": 2,
   "metadata": {
    "collapsed": true
   },
   "outputs": [],
   "source": [
    "sense = SenseHat()\n",
    "sense.clear()"
   ]
  },
  {
   "cell_type": "code",
   "execution_count": 11,
   "metadata": {
    "collapsed": true
   },
   "outputs": [],
   "source": [
    "sense.set_imu_config(False, False, False)  # gyroscope only"
   ]
  },
  {
   "cell_type": "code",
   "execution_count": 5,
   "metadata": {
    "collapsed": false
   },
   "outputs": [
    {
     "data": {
      "text/plain": [
       "32.93827819824219"
      ]
     },
     "execution_count": 5,
     "metadata": {},
     "output_type": "execute_result"
    }
   ],
   "source": [
    "hu = sense.get_humidity()\n",
    "hu"
   ]
  },
  {
   "cell_type": "code",
   "execution_count": 6,
   "metadata": {
    "collapsed": false
   },
   "outputs": [
    {
     "data": {
      "text/plain": [
       "39.73261642456055"
      ]
     },
     "execution_count": 6,
     "metadata": {},
     "output_type": "execute_result"
    }
   ],
   "source": [
    "temp = sense.get_temperature_from_humidity()\n",
    "temp"
   ]
  },
  {
   "cell_type": "code",
   "execution_count": 7,
   "metadata": {
    "collapsed": false
   },
   "outputs": [
    {
     "data": {
      "text/plain": [
       "38.295833587646484"
      ]
     },
     "execution_count": 7,
     "metadata": {},
     "output_type": "execute_result"
    }
   ],
   "source": [
    "temp = sense.get_temperature_from_pressure()\n",
    "temp"
   ]
  },
  {
   "cell_type": "code",
   "execution_count": 8,
   "metadata": {
    "collapsed": false
   },
   "outputs": [],
   "source": [
    "sense.show_message('111')"
   ]
  },
  {
   "cell_type": "code",
   "execution_count": 13,
   "metadata": {
    "collapsed": false
   },
   "outputs": [
    {
     "data": {
      "text/plain": [
       "{'x': 0.0378200002014637, 'y': 0.012931999750435352, 'z': 0.990884006023407}"
      ]
     },
     "execution_count": 13,
     "metadata": {},
     "output_type": "execute_result"
    }
   ],
   "source": [
    "sense.get_accelerometer_raw()"
   ]
  },
  {
   "cell_type": "code",
   "execution_count": 10,
   "metadata": {
    "collapsed": false,
    "scrolled": true
   },
   "outputs": [
    {
     "name": "stdout",
     "output_type": "stream",
     "text": [
      "p: 2.90650354493, r: 8.43346594087, y: 356.973709451\n"
     ]
    }
   ],
   "source": [
    "gyro_only = sense.get_gyroscope()\n",
    "print(\"p: {pitch}, r: {roll}, y: {yaw}\".format(**gyro_only))"
   ]
  },
  {
   "cell_type": "code",
   "execution_count": 5,
   "metadata": {
    "collapsed": false
   },
   "outputs": [
    {
     "name": "stdout",
     "output_type": "stream",
     "text": [
      "p: 359.963084065, r: 0.0184638406084, y: 0.000291523210563\n"
     ]
    }
   ],
   "source": [
    "accel_only = sense.get_accelerometer()\n",
    "print(\"p: {pitch}, r: {roll}, y: {yaw}\".format(**accel_only))"
   ]
  },
  {
   "cell_type": "code",
   "execution_count": 142,
   "metadata": {
    "collapsed": false
   },
   "outputs": [
    {
     "name": "stdout",
     "output_type": "stream",
     "text": [
      "p: 358.286549183, r: 0.767041396211, y: 359.883872497\n"
     ]
    }
   ],
   "source": [
    "ori = sense.get_orientation()\n",
    "print(\"p: {pitch}, r: {roll}, y: {yaw}\".format(**ori))"
   ]
  },
  {
   "cell_type": "code",
   "execution_count": 114,
   "metadata": {
    "collapsed": false
   },
   "outputs": [
    {
     "name": "stdout",
     "output_type": "stream",
     "text": [
      "North: 356.981175488\n"
     ]
    }
   ],
   "source": [
    "north = sense.get_compass()\n",
    "print(\"North: %s\" % north)"
   ]
  },
  {
   "cell_type": "code",
   "execution_count": 125,
   "metadata": {
    "collapsed": false
   },
   "outputs": [
    {
     "data": {
      "text/plain": [
       "{'x': 0.03928399831056595, 'y': 0.010491999797523022, 'z': 0.990884006023407}"
      ]
     },
     "execution_count": 125,
     "metadata": {},
     "output_type": "execute_result"
    }
   ],
   "source": [
    "acc_raw = sense.get_accelerometer_raw()\n",
    "acc_raw"
   ]
  },
  {
   "cell_type": "code",
   "execution_count": 145,
   "metadata": {
    "collapsed": false
   },
   "outputs": [
    {
     "data": {
      "text/plain": [
       "{'x': 0.04025999829173088, 'y': 0.01756799966096878, 'z': 0.990884006023407}"
      ]
     },
     "execution_count": 145,
     "metadata": {},
     "output_type": "execute_result"
    }
   ],
   "source": [
    "acc = sense.get_accelerometer_raw()\n",
    "acc"
   ]
  },
  {
   "cell_type": "code",
   "execution_count": 152,
   "metadata": {
    "collapsed": false
   },
   "outputs": [
    {
     "data": {
      "text/plain": [
       "'0.0402599982917, 0.017567999661, 0.990884006023'"
      ]
     },
     "execution_count": 152,
     "metadata": {},
     "output_type": "execute_result"
    }
   ],
   "source": [
    "'{x}, {y}, {z}'.format(**acc)"
   ]
  },
  {
   "cell_type": "code",
   "execution_count": 154,
   "metadata": {
    "collapsed": false
   },
   "outputs": [
    {
     "data": {
      "text/plain": [
       "(0.04025999829173088, 0.01756799966096878, 0.990884006023407)"
      ]
     },
     "execution_count": 154,
     "metadata": {},
     "output_type": "execute_result"
    }
   ],
   "source": [
    "acc_as_tuple = (acc['x'], acc['y'], acc['z'])\n",
    "acc_as_tuple"
   ]
  },
  {
   "cell_type": "code",
   "execution_count": 155,
   "metadata": {
    "collapsed": false
   },
   "outputs": [
    {
     "data": {
      "text/plain": [
       "'0.0402599982917, 0.017567999661, 0.990884006023'"
      ]
     },
     "execution_count": 155,
     "metadata": {},
     "output_type": "execute_result"
    }
   ],
   "source": [
    "'{0}, {1}, {2}'.format(*acc_as_tuple)"
   ]
  },
  {
   "cell_type": "code",
   "execution_count": 158,
   "metadata": {
    "collapsed": false
   },
   "outputs": [
    {
     "data": {
      "text/plain": [
       "[('y', 0.01756799966096878),\n",
       " ('x', 0.04025999829173088),\n",
       " ('z', 0.990884006023407)]"
      ]
     },
     "execution_count": 158,
     "metadata": {},
     "output_type": "execute_result"
    }
   ],
   "source": [
    "acc.items()"
   ]
  },
  {
   "cell_type": "code",
   "execution_count": 9,
   "metadata": {
    "collapsed": false
   },
   "outputs": [],
   "source": [
    "sense.flip_v"
   ]
  },
  {
   "cell_type": "code",
   "execution_count": 20,
   "metadata": {
    "collapsed": true
   },
   "outputs": [],
   "source": [
    "sense.clear()"
   ]
  },
  {
   "cell_type": "code",
   "execution_count": 18,
   "metadata": {
    "collapsed": true
   },
   "outputs": [],
   "source": [
    "sense.set_pixel(2, 0, 250, 0, 0)"
   ]
  },
  {
   "cell_type": "code",
   "execution_count": 17,
   "metadata": {
    "collapsed": false
   },
   "outputs": [],
   "source": [
    "sense.rotation = 270"
   ]
  },
  {
   "cell_type": "code",
   "execution_count": 45,
   "metadata": {
    "collapsed": true
   },
   "outputs": [],
   "source": [
    "screen = [1, 2, 3, 4]"
   ]
  },
  {
   "cell_type": "code",
   "execution_count": 40,
   "metadata": {
    "collapsed": false
   },
   "outputs": [
    {
     "data": {
      "text/plain": [
       "[3, 4, 1, 2]"
      ]
     },
     "execution_count": 40,
     "metadata": {},
     "output_type": "execute_result"
    }
   ],
   "source": [
    "screen = screen[-1:] + screen[:-1]\n",
    "screen"
   ]
  },
  {
   "cell_type": "code",
   "execution_count": 48,
   "metadata": {
    "collapsed": false
   },
   "outputs": [
    {
     "data": {
      "text/plain": [
       "[2, 3, 4, 1]"
      ]
     },
     "execution_count": 48,
     "metadata": {},
     "output_type": "execute_result"
    }
   ],
   "source": [
    "screen[1:] + screen[:1]"
   ]
  },
  {
   "cell_type": "code",
   "execution_count": 8,
   "metadata": {
    "collapsed": false
   },
   "outputs": [],
   "source": []
  },
  {
   "cell_type": "code",
   "execution_count": 69,
   "metadata": {
    "collapsed": true
   },
   "outputs": [],
   "source": [
    "stick = SenseStick()"
   ]
  },
  {
   "cell_type": "code",
   "execution_count": 4,
   "metadata": {
    "collapsed": false,
    "scrolled": true
   },
   "outputs": [
    {
     "data": {
      "text/plain": [
       "True"
      ]
     },
     "execution_count": 4,
     "metadata": {},
     "output_type": "execute_result"
    }
   ],
   "source": [
    "stick.wait(timeout=10)"
   ]
  },
  {
   "cell_type": "code",
   "execution_count": 25,
   "metadata": {
    "collapsed": true
   },
   "outputs": [],
   "source": [
    "sense.set_pixel(0, 0, 0, 0, 0)"
   ]
  },
  {
   "cell_type": "code",
   "execution_count": 20,
   "metadata": {
    "collapsed": true
   },
   "outputs": [],
   "source": [
    "for i in range(4, 8):\n",
    "    sense.set_pixel(i, 0, 0, 0, 0)\n",
    "for i in range(0, 4):\n",
    "    sense.set_pixel(i, 0, (55, 255, 0))"
   ]
  },
  {
   "cell_type": "code",
   "execution_count": 57,
   "metadata": {
    "collapsed": false
   },
   "outputs": [],
   "source": [
    "sense.rotation=180\n",
    "\n",
    "for x in range(6, -1, -1):\n",
    "    #print x\n",
    "    for y in range(0, 8):\n",
    "        picolor = sense.get_pixel(x, y)\n",
    "        sense.set_pixel(x + 1, y, picolor);\n",
    "        \n",
    "#sense.set_pixel(1, 0, [255,0,0])\n",
    "#sense.get_pixels()"
   ]
  },
  {
   "cell_type": "code",
   "execution_count": 2,
   "metadata": {
    "collapsed": false
   },
   "outputs": [
    {
     "name": "stdout",
     "output_type": "stream",
     "text": [
      "28 1\n",
      "InputEvent(timestamp=1450874190.924993, key=28, state=1)\n",
      "0 0\n",
      "28 0\n",
      "InputEvent(timestamp=1450874191.095764, key=28, state=0)\n",
      "0 0\n",
      "106 1\n",
      "InputEvent(timestamp=1450874194.098497, key=106, state=1)\n",
      "0 0\n",
      "106 0\n",
      "InputEvent(timestamp=1450874194.269348, key=106, state=0)\n",
      "0 0\n",
      "28 1\n",
      "InputEvent(timestamp=1450874196.645772, key=28, state=1)\n",
      "0 0\n",
      "28 0\n",
      "InputEvent(timestamp=1450874196.873495, key=28, state=0)\n",
      "0 0\n",
      "28 1\n",
      "InputEvent(timestamp=1450874198.880051, key=28, state=1)\n",
      "0 0\n",
      "28 0\n",
      "InputEvent(timestamp=1450874199.065068, key=28, state=0)\n",
      "0 0\n",
      "105 1\n",
      "InputEvent(timestamp=1450874203.861029, key=105, state=1)\n",
      "0 0\n",
      "105 0\n",
      "InputEvent(timestamp=1450874204.088826, key=105, state=0)\n",
      "0 0\n",
      "105 1\n",
      "InputEvent(timestamp=1450874209.186015, key=105, state=1)\n",
      "0 0\n",
      "105 0\n",
      "InputEvent(timestamp=1450874209.428075, key=105, state=0)\n",
      "0 0\n",
      "105 1\n",
      "InputEvent(timestamp=1450874211.250512, key=105, state=1)\n",
      "0 0\n",
      "105 2\n",
      "InputEvent(timestamp=1450874211.498719, key=105, state=2)\n",
      "0 1\n",
      "105 0\n",
      "InputEvent(timestamp=1450874211.520883, key=105, state=0)\n",
      "0 0\n",
      "108 1\n",
      "InputEvent(timestamp=1450874214.026237, key=108, state=1)\n",
      "0 0\n",
      "108 0\n",
      "InputEvent(timestamp=1450874214.225624, key=108, state=0)\n",
      "0 0\n",
      "106 1\n",
      "InputEvent(timestamp=1450874217.528599, key=106, state=1)\n",
      "0 0\n",
      "106 0\n",
      "InputEvent(timestamp=1450874217.713566, key=106, state=0)\n",
      "0 0\n",
      "106 1\n",
      "InputEvent(timestamp=1450874219.336461, key=106, state=1)\n",
      "0 0\n",
      "106 0\n",
      "InputEvent(timestamp=1450874219.478868, key=106, state=0)\n",
      "0 0\n",
      "105 1\n",
      "InputEvent(timestamp=1450874222.340733, key=105, state=1)\n",
      "0 0\n",
      "105 0\n",
      "InputEvent(timestamp=1450874222.554361, key=105, state=0)\n",
      "0 0\n",
      "105 1\n",
      "InputEvent(timestamp=1450874224.904029, key=105, state=1)\n",
      "0 0\n",
      "105 0\n",
      "InputEvent(timestamp=1450874225.074942, key=105, state=0)\n",
      "0 0\n",
      "105 1\n",
      "InputEvent(timestamp=1450874226.498738, key=105, state=1)\n",
      "0 0\n",
      "105 0\n",
      "InputEvent(timestamp=1450874226.698117, key=105, state=0)\n",
      "0 0\n",
      "103 1\n",
      "InputEvent(timestamp=1450874229.716398, key=103, state=1)\n",
      "0 0\n",
      "103 0\n",
      "InputEvent(timestamp=1450874229.901539, key=103, state=0)\n",
      "0 0\n",
      "103 1\n",
      "InputEvent(timestamp=1450874231.026475, key=103, state=1)\n",
      "0 0\n",
      "103 0\n",
      "InputEvent(timestamp=1450874231.140449, key=103, state=0)\n",
      "0 0\n",
      "103 1\n",
      "InputEvent(timestamp=1450874232.307965, key=103, state=1)\n",
      "0 0\n",
      "103 0\n",
      "InputEvent(timestamp=1450874232.407656, key=103, state=0)\n",
      "0 0\n",
      "108 1\n",
      "InputEvent(timestamp=1450874234.671538, key=108, state=1)\n",
      "0 0\n",
      "108 0\n",
      "InputEvent(timestamp=1450874234.771252, key=108, state=0)\n",
      "0 0\n",
      "108 1\n",
      "InputEvent(timestamp=1450874236.508771, key=108, state=1)\n",
      "0 0\n",
      "108 0\n",
      "InputEvent(timestamp=1450874236.679689, key=108, state=0)\n",
      "0 0\n",
      "105 1\n",
      "InputEvent(timestamp=1450874240.467618, key=105, state=1)\n",
      "0 0\n",
      "105 0\n",
      "InputEvent(timestamp=1450874240.61006, key=105, state=0)\n",
      "0 0\n",
      "105 1\n",
      "InputEvent(timestamp=1450874240.695558, key=105, state=1)\n",
      "0 0\n",
      "105 0\n",
      "InputEvent(timestamp=1450874240.866449, key=105, state=0)\n",
      "0 0\n",
      "105 1\n",
      "InputEvent(timestamp=1450874245.593994, key=105, state=1)\n",
      "0 0\n",
      "105 0\n",
      "InputEvent(timestamp=1450874245.722212, key=105, state=0)\n",
      "0 0\n",
      "105 1\n",
      "InputEvent(timestamp=1450874245.750698, key=105, state=1)\n",
      "0 0\n",
      "105 0\n",
      "InputEvent(timestamp=1450874245.950089, key=105, state=0)\n",
      "0 0\n",
      "105 1\n",
      "InputEvent(timestamp=1450874246.946832, key=105, state=1)\n",
      "0 0\n",
      "105 0\n",
      "InputEvent(timestamp=1450874247.060755, key=105, state=0)\n",
      "0 0\n",
      "105 1\n",
      "InputEvent(timestamp=1450874247.174685, key=105, state=1)\n",
      "0 0\n",
      "105 0\n",
      "InputEvent(timestamp=1450874247.317301, key=105, state=0)\n",
      "0 0\n",
      "106 1\n",
      "InputEvent(timestamp=1450874258.687953, key=106, state=1)\n",
      "0 0\n",
      "106 0\n",
      "InputEvent(timestamp=1450874258.872823, key=106, state=0)\n",
      "0 0\n",
      "105 1\n",
      "InputEvent(timestamp=1450874262.285453, key=105, state=1)\n",
      "0 0\n",
      "105 0\n",
      "InputEvent(timestamp=1450874262.498635, key=105, state=0)\n"
     ]
    },
    {
     "ename": "KeyboardInterrupt",
     "evalue": "",
     "output_type": "error",
     "traceback": [
      "\u001b[1;31m---------------------------------------------------------------------------\u001b[0m",
      "\u001b[1;31mKeyboardInterrupt\u001b[0m                         Traceback (most recent call last)",
      "\u001b[1;32m<ipython-input-2-7e861a8dee35>\u001b[0m in \u001b[0;36m<module>\u001b[1;34m()\u001b[0m\n\u001b[0;32m      1\u001b[0m \u001b[0mstick\u001b[0m \u001b[1;33m=\u001b[0m \u001b[0mstick\u001b[0m\u001b[1;33m.\u001b[0m\u001b[0mSenseStick\u001b[0m\u001b[1;33m(\u001b[0m\u001b[1;33m)\u001b[0m\u001b[1;33m\u001b[0m\u001b[0m\n\u001b[0;32m      2\u001b[0m \u001b[1;32mwhile\u001b[0m \u001b[0mTrue\u001b[0m\u001b[1;33m:\u001b[0m\u001b[1;33m\u001b[0m\u001b[0m\n\u001b[1;32m----> 3\u001b[1;33m     \u001b[0mtime\u001b[0m\u001b[1;33m.\u001b[0m\u001b[0msleep\u001b[0m\u001b[1;33m(\u001b[0m\u001b[1;36m0.5\u001b[0m\u001b[1;33m)\u001b[0m\u001b[1;33m\u001b[0m\u001b[0m\n\u001b[0m\u001b[0;32m      4\u001b[0m     \u001b[0mret\u001b[0m \u001b[1;33m=\u001b[0m \u001b[0mstick\u001b[0m\u001b[1;33m.\u001b[0m\u001b[0mwait\u001b[0m\u001b[1;33m(\u001b[0m\u001b[1;36m0\u001b[0m\u001b[1;33m)\u001b[0m\u001b[1;33m\u001b[0m\u001b[0m\n\u001b[0;32m      5\u001b[0m     \u001b[1;32mif\u001b[0m \u001b[0mret\u001b[0m \u001b[1;33m==\u001b[0m \u001b[0mTrue\u001b[0m\u001b[1;33m:\u001b[0m\u001b[1;33m\u001b[0m\u001b[0m\n",
      "\u001b[1;31mKeyboardInterrupt\u001b[0m: "
     ]
    }
   ],
   "source": [
    "stick = stick.SenseStick()\n",
    "while True:\n",
    "    time.sleep(0.5)\n",
    "    ret = stick.wait(0)\n",
    "    if ret == True:\n",
    "        print stick.read()"
   ]
  },
  {
   "cell_type": "code",
   "execution_count": null,
   "metadata": {
    "collapsed": true
   },
   "outputs": [],
   "source": []
  }
 ],
 "metadata": {
  "celltoolbar": "Raw Cell Format",
  "kernelspec": {
   "display_name": "Python 2",
   "language": "python",
   "name": "python2"
  },
  "language_info": {
   "codemirror_mode": {
    "name": "ipython",
    "version": 2
   },
   "file_extension": ".py",
   "mimetype": "text/x-python",
   "name": "python",
   "nbconvert_exporter": "python",
   "pygments_lexer": "ipython2",
   "version": "2.7.3"
  }
 },
 "nbformat": 4,
 "nbformat_minor": 0
}
