{
 "cells": [
  {
   "cell_type": "code",
   "execution_count": 1,
   "metadata": {
    "collapsed": true
   },
   "outputs": [],
   "source": [
    "from sense_hat import SenseHat\n",
    "from datetime import datetime\n",
    "import time, pylog"
   ]
  },
  {
   "cell_type": "code",
   "execution_count": 2,
   "metadata": {
    "collapsed": true
   },
   "outputs": [],
   "source": [
    "pylog.FILE_NAME = 'senselog.csv'\n",
    "#pylog.WRITE_FREQ = 1"
   ]
  },
  {
   "cell_type": "code",
   "execution_count": 19,
   "metadata": {
    "collapsed": false
   },
   "outputs": [
    {
     "name": "stdout",
     "output_type": "stream",
     "text": [
      "Writing to file..\n"
     ]
    }
   ],
   "source": [
    "### test logger ###\n",
    "pylog.log_data([1, 2, 3])\n",
    "pylog.write_on_file()"
   ]
  },
  {
   "cell_type": "code",
   "execution_count": 2,
   "metadata": {
    "collapsed": false
   },
   "outputs": [
    {
     "data": {
      "text/plain": [
       "'2015-12-24 17:39:16.610483'"
      ]
     },
     "execution_count": 2,
     "metadata": {},
     "output_type": "execute_result"
    }
   ],
   "source": [
    "str(datetime.now())"
   ]
  },
  {
   "cell_type": "code",
   "execution_count": 3,
   "metadata": {
    "collapsed": true
   },
   "outputs": [],
   "source": [
    "def get_sense_data():\n",
    "    sense_data = []\n",
    "    \n",
    "    sense_data.append(sense.get_temperature_from_humidity())\n",
    "    sense_data.append(sense.get_temperature_from_pressure())\n",
    "    sense_data.append(sense.get_humidity())\n",
    "    sense_data.append(sense.get_pressure())\n",
    "    \n",
    "    o = sense.get_orientation()\n",
    "    yaw = o['yaw']\n",
    "    pitch = o['pitch']\n",
    "    roll = o['roll']\n",
    "    \n",
    "    sense_data.extend([pitch, roll, yaw])\n",
    "    \n",
    "    mag = sense.get_compass_raw()\n",
    "    sense_data.extend([mag['x'], mag['y'], mag['z']])\n",
    "    \n",
    "    acc = sense.get_accelerometer_raw()\n",
    "    sense_data.extend([acc['x'], acc['y'], acc['z']])\n",
    "    \n",
    "    gyro = sense.get_gyroscope_raw()\n",
    "    sense_data.extend([gyro['x'], gyro['y'], gyro['z']])\n",
    "    \n",
    "    sense_data.append(datetime.now())\n",
    "    \n",
    "    return sense_data\n",
    "\n"
   ]
  },
  {
   "cell_type": "code",
   "execution_count": 4,
   "metadata": {
    "collapsed": false
   },
   "outputs": [
    {
     "name": "stdout",
     "output_type": "stream",
     "text": [
      "Writing to file..\n",
      "Writing to file..\n",
      "Writing to file..\n",
      "Writing to file..\n",
      "Writing to file..\n",
      "Writing to file..\n",
      "Writing to file..\n",
      "Writing to file..\n",
      "Writing to file..\n",
      "Writing to file..\n",
      "Writing to file..\n",
      "Writing to file..\n",
      "Writing to file..\n",
      "Writing to file..\n",
      "Writing to file..\n",
      "Writing to file..\n",
      "Writing to file..\n"
     ]
    },
    {
     "ename": "KeyboardInterrupt",
     "evalue": "",
     "output_type": "error",
     "traceback": [
      "\u001b[1;31m---------------------------------------------------------------------------\u001b[0m",
      "\u001b[1;31mKeyboardInterrupt\u001b[0m                         Traceback (most recent call last)",
      "\u001b[1;32m<ipython-input-4-24ceedd0c8ce>\u001b[0m in \u001b[0;36m<module>\u001b[1;34m()\u001b[0m\n\u001b[0;32m      2\u001b[0m \u001b[1;33m\u001b[0m\u001b[0m\n\u001b[0;32m      3\u001b[0m \u001b[1;32mwhile\u001b[0m \u001b[0mTrue\u001b[0m\u001b[1;33m:\u001b[0m\u001b[1;33m\u001b[0m\u001b[0m\n\u001b[1;32m----> 4\u001b[1;33m     \u001b[0mtime\u001b[0m\u001b[1;33m.\u001b[0m\u001b[0msleep\u001b[0m\u001b[1;33m(\u001b[0m\u001b[1;36m0.1\u001b[0m\u001b[1;33m)\u001b[0m\u001b[1;33m\u001b[0m\u001b[0m\n\u001b[0m\u001b[0;32m      5\u001b[0m     \u001b[0msense_data\u001b[0m \u001b[1;33m=\u001b[0m \u001b[0mget_sense_data\u001b[0m\u001b[1;33m(\u001b[0m\u001b[1;33m)\u001b[0m\u001b[1;33m\u001b[0m\u001b[0m\n\u001b[0;32m      6\u001b[0m     \u001b[1;31m#print(sense_data)\u001b[0m\u001b[1;33m\u001b[0m\u001b[1;33m\u001b[0m\u001b[0m\n",
      "\u001b[1;31mKeyboardInterrupt\u001b[0m: "
     ]
    }
   ],
   "source": [
    "sense = SenseHat()\n",
    "\n",
    "while True:\n",
    "    time.sleep(0.1)\n",
    "    sense_data = get_sense_data()\n",
    "    #print(sense_data)\n",
    "    pylog.log_data(sense_data)"
   ]
  },
  {
   "cell_type": "code",
   "execution_count": 13,
   "metadata": {
    "collapsed": false,
    "scrolled": true
   },
   "outputs": [
    {
     "name": "stdout",
     "output_type": "stream",
     "text": [
      "[31.3369140625, 30.204166412353516, 16.691173553466797, 1019.7236328125, 30.55125515745403, 71.91775969578642, 30.30625968702026, 34.21475601196289, 4.6121320724487305, 27.513797760009766, 0.02635199949145317, 0.00634399987757206, 0.9982039928436279, 0.032075461000204086, 0.02802860550582409, 0.008497473783791065, datetime.datetime(2015, 12, 24, 16, 34, 14, 643088)]\n"
     ]
    }
   ],
   "source": [
    "sense_data = get_sense_data()\n",
    "print(sense_data)"
   ]
  },
  {
   "cell_type": "code",
   "execution_count": null,
   "metadata": {
    "collapsed": true
   },
   "outputs": [],
   "source": []
  }
 ],
 "metadata": {
  "kernelspec": {
   "display_name": "Python 2",
   "language": "python",
   "name": "python2"
  },
  "language_info": {
   "codemirror_mode": {
    "name": "ipython",
    "version": 2
   },
   "file_extension": ".py",
   "mimetype": "text/x-python",
   "name": "python",
   "nbconvert_exporter": "python",
   "pygments_lexer": "ipython2",
   "version": "2.7.3"
  }
 },
 "nbformat": 4,
 "nbformat_minor": 0
}
