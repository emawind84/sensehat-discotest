{
 "cells": [
  {
   "cell_type": "code",
   "execution_count": 1,
   "metadata": {
    "collapsed": true
   },
   "outputs": [],
   "source": [
    "from sense_hat import SenseHat\n",
    "from datetime import datetime\n",
    "import time, pylog"
   ]
  },
  {
   "cell_type": "code",
   "execution_count": 2,
   "metadata": {
    "collapsed": true
   },
   "outputs": [],
   "source": [
    "pylog.FILE_NAME = 'senselog.csv'\n",
    "#pylog.WRITE_FREQ = 1"
   ]
  },
  {
   "cell_type": "code",
   "execution_count": 19,
   "metadata": {
    "collapsed": false
   },
   "outputs": [
    {
     "name": "stdout",
     "output_type": "stream",
     "text": [
      "Writing to file..\n"
     ]
    }
   ],
   "source": [
    "### test logger ###\n",
    "pylog.log_data([1, 2, 3])\n",
    "pylog.write_on_file()"
   ]
  },
  {
   "cell_type": "code",
   "execution_count": 2,
   "metadata": {
    "collapsed": false
   },
   "outputs": [
    {
     "data": {
      "text/plain": [
       "'2015-12-24 17:39:16.610483'"
      ]
     },
     "execution_count": 2,
     "metadata": {},
     "output_type": "execute_result"
    }
   ],
   "source": [
    "str(datetime.now())"
   ]
  },
  {
   "cell_type": "code",
   "execution_count": 3,
   "metadata": {
    "collapsed": true
   },
   "outputs": [],
   "source": [
    "def get_sense_data():\n",
    "    sense_data = []\n",
    "    \n",
    "    sense_data.append(sense.get_temperature_from_humidity())\n",
    "    sense_data.append(sense.get_temperature_from_pressure())\n",
    "    sense_data.append(sense.get_humidity())\n",
    "    sense_data.append(sense.get_pressure())\n",
    "    \n",
    "    o = sense.get_orientation()\n",
    "    yaw = o['yaw']\n",
    "    pitch = o['pitch']\n",
    "    roll = o['roll']\n",
    "    \n",
    "    sense_data.extend([pitch, roll, yaw])\n",
    "    \n",
    "    mag = sense.get_compass_raw()\n",
    "    sense_data.extend([mag['x'], mag['y'], mag['z']])\n",
    "    \n",
    "    acc = sense.get_accelerometer_raw()\n",
    "    sense_data.extend([acc['x'], acc['y'], acc['z']])\n",
    "    \n",
    "    gyro = sense.get_gyroscope_raw()\n",
    "    sense_data.extend([gyro['x'], gyro['y'], gyro['z']])\n",
    "    \n",
    "    sense_data.append(datetime.now())\n",
    "    \n",
    "    return sense_data\n",
    "\n"
   ]
  },
  {
   "cell_type": "code",
   "execution_count": 4,
   "metadata": {
    "collapsed": false
   },
   "outputs": [
    {
     "name": "stdout",
     "output_type": "stream",
     "text": [
      "Writing to file..\n",
      "Writing to file..\n",
      "Writing to file..\n",
      "Writing to file..\n",
      "Writing to file..\n",
      "Writing to file..\n",
      "Writing to file..\n",
      "Writing to file..\n",
      "Writing to file..\n",
      "Writing to file..\n",
      "Writing to file..\n",
      "Writing to file..\n",
      "Writing to file..\n",
      "Writing to file..\n",
      "Writing to file..\n",
      "Writing to file..\n",
      "Writing to file..\n"
     ]
    },
    {
     "ename": "KeyboardInterrupt",
     "evalue": "",
     "output_type": "error",
     "traceback": [
      "\u001b[1;31m---------------------------------------------------------------------------\u001b[0m",
      "\u001b[1;31mKeyboardInterrupt\u001b[0m                         Traceback (most recent call last)",
      "\u001b[1;32m<ipython-input-4-24ceedd0c8ce>\u001b[0m in \u001b[0;36m<module>\u001b[1;34m()\u001b[0m\n\u001b[0;32m      2\u001b[0m \u001b[1;33m\u001b[0m\u001b[0m\n\u001b[0;32m      3\u001b[0m \u001b[1;32mwhile\u001b[0m \u001b[0mTrue\u001b[0m\u001b[1;33m:\u001b[0m\u001b[1;33m\u001b[0m\u001b[0m\n\u001b[1;32m----> 4\u001b[1;33m     \u001b[0mtime\u001b[0m\u001b[1;33m.\u001b[0m\u001b[0msleep\u001b[0m\u001b[1;33m(\u001b[0m\u001b[1;36m0.1\u001b[0m\u001b[1;33m)\u001b[0m\u001b[1;33m\u001b[0m\u001b[0m\n\u001b[0m\u001b[0;32m      5\u001b[0m     \u001b[0msense_data\u001b[0m \u001b[1;33m=\u001b[0m \u001b[0mget_sense_data\u001b[0m\u001b[1;33m(\u001b[0m\u001b[1;33m)\u001b[0m\u001b[1;33m\u001b[0m\u001b[0m\n\u001b[0;32m      6\u001b[0m     \u001b[1;31m#print(sense_data)\u001b[0m\u001b[1;33m\u001b[0m\u001b[1;33m\u001b[0m\u001b[0m\n",
      "\u001b[1;31mKeyboardInterrupt\u001b[0m: "
     ]
    }
   ],
   "source": [
    "sense = SenseHat()\n",
    "\n",
    "while True:\n",
    "    time.sleep(0.1)\n",
    "    sense_data = get_sense_data()\n",
    "    #print(sense_data)\n",
    "    pylog.log_data(sense_data)"
   ]
  },
  {
   "cell_type": "code",
   "execution_count": 13,
   "metadata": {
    "collapsed": false,
    "scrolled": true
   },
   "outputs": [
    {
     "name": "stdout",
     "output_type": "stream",
     "text": [
      "[31.3369140625, 30.204166412353516, 16.691173553466797, 1019.7236328125, 30.55125515745403, 71.91775969578642, 30.30625968702026, 34.21475601196289, 4.6121320724487305, 27.513797760009766, 0.02635199949145317, 0.00634399987757206, 0.9982039928436279, 0.032075461000204086, 0.02802860550582409, 0.008497473783791065, datetime.datetime(2015, 12, 24, 16, 34, 14, 643088)]\n"
     ]
    }
   ],
   "source": [
    "sense_data = get_sense_data()\n",
    "print(sense_data)"
   ]
  },
  {
   "cell_type": "code",
   "execution_count": 7,
   "metadata": {
    "collapsed": false
   },
   "outputs": [],
   "source": [
    "import senselogger"
   ]
  },
  {
   "cell_type": "code",
   "execution_count": 26,
   "metadata": {
    "collapsed": false
   },
   "outputs": [],
   "source": [
    "senselogger.pylog.FILE_NAME = 'log/senselog.csv'\n",
    "senselogger.pylog.WRITE_FREQ = 2\n",
    "senselogger.pylog.log_data( senselogger.get_sense_data() )"
   ]
  },
  {
   "cell_type": "code",
   "execution_count": 1,
   "metadata": {
    "collapsed": true
   },
   "outputs": [],
   "source": [
    "import csv, json\n",
    "from datetime import datetime"
   ]
  },
  {
   "cell_type": "code",
   "execution_count": 6,
   "metadata": {
    "collapsed": false,
    "scrolled": true
   },
   "outputs": [
    {
     "name": "stdout",
     "output_type": "stream",
     "text": [
      "{'mag_x': '-43.3502655029', 'temp_h': '40.8324890137', 'acc_z': '0.999400794506', 'timestamp': '2016-07-07 00:10:06', 'yaw': '153.538472466', 'gyro_y': '-0.00204732082784', 'gyro_x': '-0.0011534888763', 'humidity': '41.1835708618', 'pressure': '1013.39770508', 'gyro_z': '0.000427260063589', 'temp_p': '38.3645820618', 'pitch': '358.312123652', 'acc_x': '0.0286086183041', 'mag_y': '-22.1562366486', 'roll': '1.89758535333', 'acc_y': '0.0322914123535', 'mag_z': '-17.7390727997'}\n"
     ]
    }
   ],
   "source": [
    "CSV_MAP = ['temp_h','temp_p','humidity','pressure',\n",
    "           'pitch','roll','yaw',\n",
    "           'mag_x','mag_y','mag_z',\n",
    "           'acc_x','acc_y','acc_z',\n",
    "           'gyro_x','gyro_y','gyro_z',\n",
    "           'timestamp']\n",
    "\n",
    "\n",
    "with open('/tmp/senselog.csv', 'rb') as csvfile:\n",
    "    reader = csv.reader(csvfile, delimiter=',')\n",
    "    #reader = csv.DictReader(csvfile)\n",
    "    reader.next() # skip the first line\n",
    "\n",
    "    for row in reader:\n",
    "        data = dict(zip(CSV_MAP, row))\n",
    "        timestamp = datetime.strptime( data['timestamp'], \"%Y-%m-%d %H:%M:%S.%f\")\n",
    "        data['timestamp'] = timestamp.strftime(\"%Y-%m-%d %H:%M:%S\")\n",
    "        print data\n",
    "        \n",
    "        break"
   ]
  },
  {
   "cell_type": "code",
   "execution_count": 16,
   "metadata": {
    "collapsed": false
   },
   "outputs": [
    {
     "data": {
      "text/plain": [
       "'2016-07-09T10:53:50.999912'"
      ]
     },
     "execution_count": 16,
     "metadata": {},
     "output_type": "execute_result"
    }
   ],
   "source": [
    "datetime.now().isoformat()"
   ]
  },
  {
   "cell_type": "code",
   "execution_count": 30,
   "metadata": {
    "collapsed": false
   },
   "outputs": [
    {
     "ename": "SyntaxError",
     "evalue": "invalid syntax (<ipython-input-30-d3859fdba4d9>, line 1)",
     "output_type": "error",
     "traceback": [
      "\u001b[1;36m  File \u001b[1;32m\"<ipython-input-30-d3859fdba4d9>\"\u001b[1;36m, line \u001b[1;32m1\u001b[0m\n\u001b[1;33m    datetime.utctt`now().strftime('%Y-%m-%dT%H:%M:%S.%f%z')\u001b[0m\n\u001b[1;37m                  ^\u001b[0m\n\u001b[1;31mSyntaxError\u001b[0m\u001b[1;31m:\u001b[0m invalid syntax\n"
     ]
    }
   ],
   "source": [
    "datetime.utctt`now().strftime('%Y-%m-%dT%H:%M:%S.%f%z')"
   ]
  },
  {
   "cell_type": "code",
   "execution_count": 87,
   "metadata": {
    "collapsed": false
   },
   "outputs": [
    {
     "data": {
      "text/plain": [
       "'2016-07-10T03:00:36.557926'"
      ]
     },
     "execution_count": 87,
     "metadata": {},
     "output_type": "execute_result"
    }
   ],
   "source": [
    "datetime.utcnow().strftime('%Y-%m-%dT%H:%M:%S.%f%z')"
   ]
  },
  {
   "cell_type": "code",
   "execution_count": 92,
   "metadata": {
    "collapsed": false
   },
   "outputs": [
    {
     "ename": "ValueError",
     "evalue": "'z' is a bad directive in format '%Y-%m-%dT%H:%M:%S.%f%z'",
     "output_type": "error",
     "traceback": [
      "\u001b[1;31m---------------------------------------------------------------------------\u001b[0m",
      "\u001b[1;31mValueError\u001b[0m                                Traceback (most recent call last)",
      "\u001b[1;32m<ipython-input-92-b4a4382b61fc>\u001b[0m in \u001b[0;36m<module>\u001b[1;34m()\u001b[0m\n\u001b[1;32m----> 1\u001b[1;33m \u001b[0mdatetime\u001b[0m\u001b[1;33m.\u001b[0m\u001b[0mstrptime\u001b[0m\u001b[1;33m(\u001b[0m\u001b[1;34m'2016-07-10 10:58:32.088000+0900'\u001b[0m\u001b[1;33m,\u001b[0m \u001b[1;34m'%Y-%m-%dT%H:%M:%S.%f%z'\u001b[0m \u001b[1;33m)\u001b[0m\u001b[1;33m\u001b[0m\u001b[0m\n\u001b[0m",
      "\u001b[1;32m/usr/lib/python2.7/_strptime.pyc\u001b[0m in \u001b[0;36m_strptime\u001b[1;34m(data_string, format)\u001b[0m\n\u001b[0;32m    315\u001b[0m                 \u001b[1;32mdel\u001b[0m \u001b[0merr\u001b[0m\u001b[1;33m\u001b[0m\u001b[0m\n\u001b[0;32m    316\u001b[0m                 raise ValueError(\"'%s' is a bad directive in format '%s'\" %\n\u001b[1;32m--> 317\u001b[1;33m                                     (bad_directive, format))\n\u001b[0m\u001b[0;32m    318\u001b[0m             \u001b[1;31m# IndexError only occurs when the format string is \"%\"\u001b[0m\u001b[1;33m\u001b[0m\u001b[1;33m\u001b[0m\u001b[0m\n\u001b[0;32m    319\u001b[0m             \u001b[1;32mexcept\u001b[0m \u001b[0mIndexError\u001b[0m\u001b[1;33m:\u001b[0m\u001b[1;33m\u001b[0m\u001b[0m\n",
      "\u001b[1;31mValueError\u001b[0m: 'z' is a bad directive in format '%Y-%m-%dT%H:%M:%S.%f%z'"
     ]
    }
   ],
   "source": [
    "datetime.strptime('2016-07-10 10:58:32.088000+0900', '%Y-%m-%dT%H:%M:%S.%f%z' )"
   ]
  },
  {
   "cell_type": "code",
   "execution_count": 37,
   "metadata": {
    "collapsed": true
   },
   "outputs": [],
   "source": [
    "import requests\n",
    "import json"
   ]
  },
  {
   "cell_type": "code",
   "execution_count": null,
   "metadata": {
    "collapsed": false
   },
   "outputs": [],
   "source": [
    "s = requests.session()\n",
    "query = {\n",
    "    \"query\": {\n",
    "        \"range\": {\n",
    "            \"timestamp\": {\n",
    "                \"gte\": \"now-1d/d\",\n",
    "                \"lte\": \"now/d\"\n",
    "            }\n",
    "        }\n",
    "    }\n",
    "}\n",
    "result = s.get('http://203.239.21.69:9200/sense/stats/_search', data=json.dumps(query))\n",
    "jresult = result.json()\n",
    "jresult['hits']['hits']"
   ]
  },
  {
   "cell_type": "code",
   "execution_count": 56,
   "metadata": {
    "collapsed": false
   },
   "outputs": [
    {
     "data": {
      "text/plain": [
       "1.0"
      ]
     },
     "execution_count": 56,
     "metadata": {},
     "output_type": "execute_result"
    }
   ],
   "source": [
    "4//3.0"
   ]
  },
  {
   "cell_type": "code",
   "execution_count": 93,
   "metadata": {
    "collapsed": false
   },
   "outputs": [],
   "source": [
    "import dateutil.parser"
   ]
  },
  {
   "cell_type": "code",
   "execution_count": 100,
   "metadata": {
    "collapsed": false
   },
   "outputs": [
    {
     "data": {
      "text/plain": [
       "'2016-07-09T12:12:12.111000+0900'"
      ]
     },
     "execution_count": 100,
     "metadata": {},
     "output_type": "execute_result"
    }
   ],
   "source": [
    "date = dateutil.parser.parse('2016-07-09 12:12:12.111+0900')\n",
    "date.strftime('%Y-%m-%dT%H:%M:%S.%f%z')"
   ]
  },
  {
   "cell_type": "code",
   "execution_count": 99,
   "metadata": {
    "collapsed": false
   },
   "outputs": [
    {
     "data": {
      "text/plain": [
       "'2016-07-09T12:12:12.111000+09:00'"
      ]
     },
     "execution_count": 99,
     "metadata": {},
     "output_type": "execute_result"
    }
   ],
   "source": [
    "date.isoformat('T')"
   ]
  },
  {
   "cell_type": "code",
   "execution_count": null,
   "metadata": {
    "collapsed": true
   },
   "outputs": [],
   "source": []
  }
 ],
 "metadata": {
  "kernelspec": {
   "display_name": "Python 2",
   "language": "python",
   "name": "python2"
  },
  "language_info": {
   "codemirror_mode": {
    "name": "ipython",
    "version": 2
   },
   "file_extension": ".py",
   "mimetype": "text/x-python",
   "name": "python",
   "nbconvert_exporter": "python",
   "pygments_lexer": "ipython2",
   "version": "2.7.9"
  }
 },
 "nbformat": 4,
 "nbformat_minor": 0
}
